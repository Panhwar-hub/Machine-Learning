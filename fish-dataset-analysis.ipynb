{
 "cells": [
  {
   "cell_type": "markdown",
   "id": "ea72b191",
   "metadata": {
    "papermill": {
     "duration": 0.038079,
     "end_time": "2022-04-20T10:32:52.819247",
     "exception": false,
     "start_time": "2022-04-20T10:32:52.781168",
     "status": "completed"
    },
    "tags": []
   },
   "source": [
    "# Analysis of fish dataset, Performing statistical analysis"
   ]
  },
  {
   "cell_type": "code",
   "execution_count": 1,
   "id": "9d0aff70",
   "metadata": {
    "_cell_guid": "b1076dfc-b9ad-4769-8c92-a6c4dae69d19",
    "_uuid": "8f2839f25d086af736a60e9eeb907d3b93b6e0e5",
    "execution": {
     "iopub.execute_input": "2022-04-20T10:32:52.892921Z",
     "iopub.status.busy": "2022-04-20T10:32:52.892116Z",
     "iopub.status.idle": "2022-04-20T10:32:54.278384Z",
     "shell.execute_reply": "2022-04-20T10:32:54.277203Z"
    },
    "papermill": {
     "duration": 1.426801,
     "end_time": "2022-04-20T10:32:54.281538",
     "exception": false,
     "start_time": "2022-04-20T10:32:52.854737",
     "status": "completed"
    },
    "tags": []
   },
   "outputs": [],
   "source": [
    "# importing the required libraries for the project\n",
    "import numpy as np   # handling with arrays\n",
    "import pandas as pd  # handling with dataframes\n",
    "import matplotlib.pyplot as plt # ploting the data \n",
    "from scipy.optimize import curve_fit # optimizing nonlinear curve\n",
    "from sklearn.model_selection import train_test_split # spliting data for training a model\n",
    "from sklearn.linear_model import LinearRegression # Linear regression model \n",
    "from sklearn.metrics import mean_squared_error # Squared error estimation "
   ]
  },
  {
   "cell_type": "markdown",
   "id": "06702afb",
   "metadata": {
    "papermill": {
     "duration": 0.03491,
     "end_time": "2022-04-20T10:32:54.354862",
     "exception": false,
     "start_time": "2022-04-20T10:32:54.319952",
     "status": "completed"
    },
    "tags": []
   },
   "source": [
    "### Read csv file of fish data "
   ]
  },
  {
   "cell_type": "code",
   "execution_count": 2,
   "id": "6093b5a1",
   "metadata": {
    "execution": {
     "iopub.execute_input": "2022-04-20T10:32:54.432676Z",
     "iopub.status.busy": "2022-04-20T10:32:54.432373Z",
     "iopub.status.idle": "2022-04-20T10:32:54.468898Z",
     "shell.execute_reply": "2022-04-20T10:32:54.467902Z"
    },
    "papermill": {
     "duration": 0.078731,
     "end_time": "2022-04-20T10:32:54.471695",
     "exception": false,
     "start_time": "2022-04-20T10:32:54.392964",
     "status": "completed"
    },
    "tags": []
   },
   "outputs": [
    {
     "data": {
      "text/html": [
       "<div>\n",
       "<style scoped>\n",
       "    .dataframe tbody tr th:only-of-type {\n",
       "        vertical-align: middle;\n",
       "    }\n",
       "\n",
       "    .dataframe tbody tr th {\n",
       "        vertical-align: top;\n",
       "    }\n",
       "\n",
       "    .dataframe thead th {\n",
       "        text-align: right;\n",
       "    }\n",
       "</style>\n",
       "<table border=\"1\" class=\"dataframe\">\n",
       "  <thead>\n",
       "    <tr style=\"text-align: right;\">\n",
       "      <th></th>\n",
       "      <th>number</th>\n",
       "      <th>age</th>\n",
       "      <th>water_temperature</th>\n",
       "      <th>fish_length</th>\n",
       "    </tr>\n",
       "  </thead>\n",
       "  <tbody>\n",
       "    <tr>\n",
       "      <th>0</th>\n",
       "      <td>1</td>\n",
       "      <td>14</td>\n",
       "      <td>25</td>\n",
       "      <td>620</td>\n",
       "    </tr>\n",
       "    <tr>\n",
       "      <th>1</th>\n",
       "      <td>2</td>\n",
       "      <td>28</td>\n",
       "      <td>25</td>\n",
       "      <td>1315</td>\n",
       "    </tr>\n",
       "    <tr>\n",
       "      <th>2</th>\n",
       "      <td>3</td>\n",
       "      <td>41</td>\n",
       "      <td>25</td>\n",
       "      <td>2120</td>\n",
       "    </tr>\n",
       "    <tr>\n",
       "      <th>3</th>\n",
       "      <td>4</td>\n",
       "      <td>55</td>\n",
       "      <td>25</td>\n",
       "      <td>2600</td>\n",
       "    </tr>\n",
       "    <tr>\n",
       "      <th>4</th>\n",
       "      <td>5</td>\n",
       "      <td>69</td>\n",
       "      <td>25</td>\n",
       "      <td>3110</td>\n",
       "    </tr>\n",
       "  </tbody>\n",
       "</table>\n",
       "</div>"
      ],
      "text/plain": [
       "   number  age  water_temperature  fish_length\n",
       "0       1   14                 25          620\n",
       "1       2   28                 25         1315\n",
       "2       3   41                 25         2120\n",
       "3       4   55                 25         2600\n",
       "4       5   69                 25         3110"
      ]
     },
     "execution_count": 2,
     "metadata": {},
     "output_type": "execute_result"
    }
   ],
   "source": [
    "# Read csv data from given source\n",
    "Data = pd.read_csv('../input/dataset-fishes/fish_data (1).csv')\n",
    "Data.head()"
   ]
  },
  {
   "cell_type": "code",
   "execution_count": 3,
   "id": "eeb027c1",
   "metadata": {
    "execution": {
     "iopub.execute_input": "2022-04-20T10:32:54.547910Z",
     "iopub.status.busy": "2022-04-20T10:32:54.547607Z",
     "iopub.status.idle": "2022-04-20T10:32:54.558967Z",
     "shell.execute_reply": "2022-04-20T10:32:54.557947Z"
    },
    "papermill": {
     "duration": 0.051991,
     "end_time": "2022-04-20T10:32:54.561160",
     "exception": false,
     "start_time": "2022-04-20T10:32:54.509169",
     "status": "completed"
    },
    "tags": []
   },
   "outputs": [],
   "source": [
    "# Drop the index number for fishes \n",
    "DF =Data.drop([\"number\"], axis = 1)"
   ]
  },
  {
   "cell_type": "markdown",
   "id": "cd4f785f",
   "metadata": {
    "papermill": {
     "duration": 0.038625,
     "end_time": "2022-04-20T10:32:54.638992",
     "exception": false,
     "start_time": "2022-04-20T10:32:54.600367",
     "status": "completed"
    },
    "tags": []
   },
   "source": [
    "### Generate D matrix from data\n",
    "- Generate the data matrix D where the rows associate with each fish, and columns with age of the fish, water temperature in degrees Celsius, the length of the fish; respectively."
   ]
  },
  {
   "cell_type": "code",
   "execution_count": 4,
   "id": "e22752e2",
   "metadata": {
    "execution": {
     "iopub.execute_input": "2022-04-20T10:32:54.716298Z",
     "iopub.status.busy": "2022-04-20T10:32:54.715996Z",
     "iopub.status.idle": "2022-04-20T10:32:54.723123Z",
     "shell.execute_reply": "2022-04-20T10:32:54.721967Z"
    },
    "papermill": {
     "duration": 0.047657,
     "end_time": "2022-04-20T10:32:54.725331",
     "exception": false,
     "start_time": "2022-04-20T10:32:54.677674",
     "status": "completed"
    },
    "tags": []
   },
   "outputs": [
    {
     "data": {
      "text/plain": [
       "array([[  14,   25,  620],\n",
       "       [  28,   25, 1315],\n",
       "       [  41,   25, 2120],\n",
       "       [  55,   25, 2600],\n",
       "       [  69,   25, 3110],\n",
       "       [  83,   25, 3535],\n",
       "       [  97,   25, 3935],\n",
       "       [ 111,   25, 4465],\n",
       "       [ 125,   25, 4530],\n",
       "       [ 139,   25, 4570],\n",
       "       [ 153,   25, 4600],\n",
       "       [  14,   27,  625],\n",
       "       [  28,   27, 1215],\n",
       "       [  41,   27, 2110],\n",
       "       [  55,   27, 2805],\n",
       "       [  69,   27, 3255],\n",
       "       [  83,   27, 4015],\n",
       "       [  97,   27, 4315],\n",
       "       [ 111,   27, 4495],\n",
       "       [ 125,   27, 4535],\n",
       "       [ 139,   27, 4600],\n",
       "       [ 153,   27, 4600],\n",
       "       [  14,   29,  590],\n",
       "       [  28,   29, 1305],\n",
       "       [  41,   29, 2140],\n",
       "       [  55,   29, 2890],\n",
       "       [  69,   29, 3920],\n",
       "       [  83,   29, 3920],\n",
       "       [  97,   29, 4515],\n",
       "       [ 111,   29, 4520],\n",
       "       [ 125,   29, 4525],\n",
       "       [ 139,   29, 4565],\n",
       "       [ 153,   29, 4566],\n",
       "       [  14,   31,  590],\n",
       "       [  28,   31, 1205],\n",
       "       [  41,   31, 1915],\n",
       "       [  55,   31, 2140],\n",
       "       [  69,   31, 2710],\n",
       "       [  83,   31, 3020],\n",
       "       [  97,   31, 3030],\n",
       "       [ 111,   31, 3040],\n",
       "       [ 125,   31, 3180],\n",
       "       [ 139,   31, 3257],\n",
       "       [ 153,   31, 3214]])"
      ]
     },
     "execution_count": 4,
     "metadata": {},
     "output_type": "execute_result"
    }
   ],
   "source": [
    "D = DF.to_numpy()\n",
    "D"
   ]
  },
  {
   "cell_type": "markdown",
   "id": "41e887d4",
   "metadata": {
    "papermill": {
     "duration": 0.037963,
     "end_time": "2022-04-20T10:32:54.802109",
     "exception": false,
     "start_time": "2022-04-20T10:32:54.764146",
     "status": "completed"
    },
    "tags": []
   },
   "source": [
    "### Calculate emperical mean and covariance\n",
    "- (a) Generate the empirical mean x and empirical covariance of the observations of the data matrix D and provided that the observation vectors are row."
   ]
  },
  {
   "cell_type": "code",
   "execution_count": 5,
   "id": "2a004686",
   "metadata": {
    "execution": {
     "iopub.execute_input": "2022-04-20T10:32:54.879940Z",
     "iopub.status.busy": "2022-04-20T10:32:54.879649Z",
     "iopub.status.idle": "2022-04-20T10:32:54.887411Z",
     "shell.execute_reply": "2022-04-20T10:32:54.886261Z"
    },
    "papermill": {
     "duration": 0.050416,
     "end_time": "2022-04-20T10:32:54.890373",
     "exception": false,
     "start_time": "2022-04-20T10:32:54.839957",
     "status": "completed"
    },
    "tags": []
   },
   "outputs": [
    {
     "name": "stdout",
     "output_type": "stream",
     "text": [
      "This is emperical mean :[  83.18181818   28.         3107.43181818]\n"
     ]
    }
   ],
   "source": [
    "# calculating mean of array \n",
    "emperical_mean = D.mean(axis = 0)\n",
    "print(f\"This is emperical mean :{emperical_mean}\")"
   ]
  },
  {
   "cell_type": "code",
   "execution_count": 6,
   "id": "830d3715",
   "metadata": {
    "execution": {
     "iopub.execute_input": "2022-04-20T10:32:54.969863Z",
     "iopub.status.busy": "2022-04-20T10:32:54.969577Z",
     "iopub.status.idle": "2022-04-20T10:32:54.976678Z",
     "shell.execute_reply": "2022-04-20T10:32:54.975489Z"
    },
    "papermill": {
     "duration": 0.049413,
     "end_time": "2022-04-20T10:32:54.978862",
     "exception": false,
     "start_time": "2022-04-20T10:32:54.929449",
     "status": "completed"
    },
    "tags": []
   },
   "outputs": [],
   "source": [
    "# calculating covariance of data\n",
    "emperical_covariance = np.cov(D)"
   ]
  },
  {
   "cell_type": "markdown",
   "id": "f5b112b0",
   "metadata": {
    "papermill": {
     "duration": 0.03808,
     "end_time": "2022-04-20T10:32:55.055191",
     "exception": false,
     "start_time": "2022-04-20T10:32:55.017111",
     "status": "completed"
    },
    "tags": []
   },
   "source": [
    "### check if the matrix is postive definite \n",
    "- i. Print both empirical mean vector and covariance matrix. \n",
    "- ii. Verify whether E is a positive definite matrix."
   ]
  },
  {
   "cell_type": "code",
   "execution_count": 7,
   "id": "bff44724",
   "metadata": {
    "execution": {
     "iopub.execute_input": "2022-04-20T10:32:55.133211Z",
     "iopub.status.busy": "2022-04-20T10:32:55.132922Z",
     "iopub.status.idle": "2022-04-20T10:32:55.139551Z",
     "shell.execute_reply": "2022-04-20T10:32:55.138506Z"
    },
    "papermill": {
     "duration": 0.051454,
     "end_time": "2022-04-20T10:32:55.144211",
     "exception": false,
     "start_time": "2022-04-20T10:32:55.092757",
     "status": "completed"
    },
    "tags": []
   },
   "outputs": [
    {
     "name": "stdout",
     "output_type": "stream",
     "text": [
      "This is emperical covariance matrix :[[ 120230.33333333  257906.5         417703.83333333 ...  620658.5\n",
      "   634631.66666667  624584.83333333]\n",
      " [ 257906.5         553413.          896378.5        ... 1332379.5\n",
      "  1362455.         1340990.5       ]\n",
      " [ 417703.83333333  896378.5        1451920.33333333 ... 2158334.\n",
      "  2207086.66666667 2172359.33333333]\n",
      " ...\n",
      " [ 620658.5        1332379.5        2158334.         ... 3209677.\n",
      "  3282386.         3231015.        ]\n",
      " [ 634631.66666667 1362455.         2207086.66666667 ... 3282386.\n",
      "  3356777.33333333 3304288.66666667]\n",
      " [ 624584.83333333 1340990.5        2172359.33333333 ... 3231015.\n",
      "  3304288.66666667 3252682.33333333]]\n"
     ]
    }
   ],
   "source": [
    "print(f\"This is emperical covariance matrix :{emperical_covariance}\")"
   ]
  },
  {
   "cell_type": "code",
   "execution_count": 8,
   "id": "2316e508",
   "metadata": {
    "execution": {
     "iopub.execute_input": "2022-04-20T10:32:55.225715Z",
     "iopub.status.busy": "2022-04-20T10:32:55.225394Z",
     "iopub.status.idle": "2022-04-20T10:32:55.229825Z",
     "shell.execute_reply": "2022-04-20T10:32:55.228994Z"
    },
    "papermill": {
     "duration": 0.04753,
     "end_time": "2022-04-20T10:32:55.232238",
     "exception": false,
     "start_time": "2022-04-20T10:32:55.184708",
     "status": "completed"
    },
    "tags": []
   },
   "outputs": [],
   "source": [
    "# create a function to check if the matrix is positve difinite \n",
    "def is_pos_def(x):\n",
    "    return np.all(np.linalg.eigvals(x) > 0) # checking if all the eigen values are positive "
   ]
  },
  {
   "cell_type": "code",
   "execution_count": 9,
   "id": "6f068819",
   "metadata": {
    "execution": {
     "iopub.execute_input": "2022-04-20T10:32:55.310826Z",
     "iopub.status.busy": "2022-04-20T10:32:55.310545Z",
     "iopub.status.idle": "2022-04-20T10:32:55.329939Z",
     "shell.execute_reply": "2022-04-20T10:32:55.328621Z"
    },
    "papermill": {
     "duration": 0.061822,
     "end_time": "2022-04-20T10:32:55.333140",
     "exception": false,
     "start_time": "2022-04-20T10:32:55.271318",
     "status": "completed"
    },
    "tags": []
   },
   "outputs": [
    {
     "name": "stdout",
     "output_type": "stream",
     "text": [
      "Is Matrix positive definite ?: False\n"
     ]
    }
   ],
   "source": [
    "# Calling function to see the output \n",
    "# False Matrix is not positive definite \n",
    "print(f\"Is Matrix positive definite ?: {is_pos_def(emperical_covariance)}\")"
   ]
  },
  {
   "cell_type": "markdown",
   "id": "ecfd1e67",
   "metadata": {
    "papermill": {
     "duration": 0.042382,
     "end_time": "2022-04-20T10:32:55.415134",
     "exception": false,
     "start_time": "2022-04-20T10:32:55.372752",
     "status": "completed"
    },
    "tags": []
   },
   "source": [
    "### Calculating M matrix of Mahalanobis distance of data points.\n",
    "- iii. Generate a matrix M where in each entry mij the Mahalanobis distance of data point xi from xj is stored . Provide M as a \"csv file.\n",
    "<br>\n",
    "<img src = 'https://www.machinelearningplus.com/wp-content/uploads/2019/04/3_Mahalanobis_Distance_Formula-min.png' >"
   ]
  },
  {
   "cell_type": "code",
   "execution_count": 10,
   "id": "627c2cdb",
   "metadata": {
    "execution": {
     "iopub.execute_input": "2022-04-20T10:32:55.491998Z",
     "iopub.status.busy": "2022-04-20T10:32:55.491721Z",
     "iopub.status.idle": "2022-04-20T10:32:55.498534Z",
     "shell.execute_reply": "2022-04-20T10:32:55.497088Z"
    },
    "papermill": {
     "duration": 0.047783,
     "end_time": "2022-04-20T10:32:55.500698",
     "exception": false,
     "start_time": "2022-04-20T10:32:55.452915",
     "status": "completed"
    },
    "tags": []
   },
   "outputs": [],
   "source": [
    "# creating a function to find mahalanobis distance matrix M \n",
    "def mahalanobis_distance(data, variables):\n",
    "    mean_diff = data - np.mean(variables)  # first calculate difference of data point and mean\n",
    "    cov = np.cov(variables.values.T) # find the covariance matrix \n",
    "    inverse_covariance = np.linalg.inv (cov) # find the inverse of covariance matrix \n",
    "    left = np.dot (mean_diff , inverse_covariance) #  Dot multiplication of both above calculation\n",
    "    m_distance = np.dot (left, mean_diff.T) # calculating the distance for each point \n",
    "    return m_distance.diagonal() # returning Mahalanobis matrix "
   ]
  },
  {
   "cell_type": "code",
   "execution_count": 11,
   "id": "909c26ce",
   "metadata": {
    "execution": {
     "iopub.execute_input": "2022-04-20T10:32:55.580691Z",
     "iopub.status.busy": "2022-04-20T10:32:55.580400Z",
     "iopub.status.idle": "2022-04-20T10:32:55.599439Z",
     "shell.execute_reply": "2022-04-20T10:32:55.597760Z"
    },
    "papermill": {
     "duration": 0.064632,
     "end_time": "2022-04-20T10:32:55.603519",
     "exception": false,
     "start_time": "2022-04-20T10:32:55.538887",
     "status": "completed"
    },
    "tags": []
   },
   "outputs": [
    {
     "name": "stdout",
     "output_type": "stream",
     "text": [
      "Matrix for Mahlanobis distance is : [7.03633203 4.57837331 2.77298237 2.18187909 1.86951454 1.79637231\n",
      " 1.91728429 2.42648564 2.64138662 3.63174269 5.48238326 4.35278315\n",
      " 2.61553035 1.09308172 0.91464745 0.79454453 2.0877084  1.88088348\n",
      " 1.47091725 1.22358482 1.7851823  3.23381697 3.64349679 1.9107658\n",
      " 1.26915788 1.74687039 5.15338276 2.68144919 4.15389658 2.39949237\n",
      " 1.6079406  1.79591768 2.86235073 4.6004626  3.34844692 2.81578802\n",
      " 2.18404041 2.1122793  1.92216562 1.89792019 2.81555901 4.09143845\n",
      " 6.22029394 9.97946817]\n"
     ]
    }
   ],
   "source": [
    "# Saving mahalanobis matrix in M variable\n",
    "M = mahalanobis_distance(DF, DF[['age', 'water_temperature', 'fish_length']])\n",
    "# prinit the matrix \n",
    "print(f\"Matrix for Mahlanobis distance is : {M}\")"
   ]
  },
  {
   "cell_type": "code",
   "execution_count": 12,
   "id": "b7cb7218",
   "metadata": {
    "execution": {
     "iopub.execute_input": "2022-04-20T10:32:55.737360Z",
     "iopub.status.busy": "2022-04-20T10:32:55.737074Z",
     "iopub.status.idle": "2022-04-20T10:32:55.745254Z",
     "shell.execute_reply": "2022-04-20T10:32:55.744342Z"
    },
    "papermill": {
     "duration": 0.064113,
     "end_time": "2022-04-20T10:32:55.747839",
     "exception": false,
     "start_time": "2022-04-20T10:32:55.683726",
     "status": "completed"
    },
    "tags": []
   },
   "outputs": [],
   "source": [
    "# Generate csv file for matrix\n",
    "M_df = pd.DataFrame(M)\n",
    "# saving M matrix in myfile.csv \n",
    "M_df.to_csv('Mahalanobis_Distance.csv')"
   ]
  },
  {
   "cell_type": "markdown",
   "id": "a62824f8",
   "metadata": {
    "papermill": {
     "duration": 0.040459,
     "end_time": "2022-04-20T10:32:55.828174",
     "exception": false,
     "start_time": "2022-04-20T10:32:55.787715",
     "status": "completed"
    },
    "tags": []
   },
   "source": [
    "### Calculating points\n",
    "- Pick two data points xi and x's with the maximum Mahalanobis distance that is stored in M."
   ]
  },
  {
   "cell_type": "code",
   "execution_count": 13,
   "id": "4fa4996f",
   "metadata": {
    "execution": {
     "iopub.execute_input": "2022-04-20T10:32:55.909000Z",
     "iopub.status.busy": "2022-04-20T10:32:55.908485Z",
     "iopub.status.idle": "2022-04-20T10:32:55.917356Z",
     "shell.execute_reply": "2022-04-20T10:32:55.916600Z"
    },
    "papermill": {
     "duration": 0.051284,
     "end_time": "2022-04-20T10:32:55.919631",
     "exception": false,
     "start_time": "2022-04-20T10:32:55.868347",
     "status": "completed"
    },
    "tags": []
   },
   "outputs": [],
   "source": [
    "# finding the maximum points of M matrix \n",
    "maximum_point = M.max()\n",
    "DF[\"M_Distance\"] = M\n",
    "row = DF.loc[DF['M_Distance'] == maximum_point]"
   ]
  },
  {
   "cell_type": "code",
   "execution_count": 14,
   "id": "c71e5ce3",
   "metadata": {
    "execution": {
     "iopub.execute_input": "2022-04-20T10:32:55.999853Z",
     "iopub.status.busy": "2022-04-20T10:32:55.999303Z",
     "iopub.status.idle": "2022-04-20T10:32:56.005791Z",
     "shell.execute_reply": "2022-04-20T10:32:56.004460Z"
    },
    "papermill": {
     "duration": 0.050216,
     "end_time": "2022-04-20T10:32:56.008057",
     "exception": false,
     "start_time": "2022-04-20T10:32:55.957841",
     "status": "completed"
    },
    "tags": []
   },
   "outputs": [
    {
     "name": "stdout",
     "output_type": "stream",
     "text": [
      "two data points x1' and x2' with the maximum Mahalanobis distance are: 153.0, 31.0\n"
     ]
    }
   ],
   "source": [
    "# corrsponding x1 and x2 values having maximum mahalonobis distance\n",
    "row\n",
    "row_arr = row.to_numpy()\n",
    "point_x1 = row_arr[0,0]\n",
    "point_x2 = row_arr[0,1]\n",
    "# priniting these points\n",
    "print(f\"two data points x1' and x2' with the maximum Mahalanobis distance are: {point_x1}, {point_x2}\")"
   ]
  },
  {
   "cell_type": "markdown",
   "id": "2783c725",
   "metadata": {
    "papermill": {
     "duration": 0.039915,
     "end_time": "2022-04-20T10:32:56.086254",
     "exception": false,
     "start_time": "2022-04-20T10:32:56.046339",
     "status": "completed"
    },
    "tags": []
   },
   "source": [
    "- Classify the data points according the distance from x1', and x2', that means create two disjoint lists L1 and L2 where the distance elements in Li is closer to xi' for i = 1, 2. \n",
    "- Provide your list as a \"csv' file"
   ]
  },
  {
   "cell_type": "code",
   "execution_count": 15,
   "id": "e9063e0d",
   "metadata": {
    "execution": {
     "iopub.execute_input": "2022-04-20T10:32:56.169543Z",
     "iopub.status.busy": "2022-04-20T10:32:56.168193Z",
     "iopub.status.idle": "2022-04-20T10:32:56.182363Z",
     "shell.execute_reply": "2022-04-20T10:32:56.181347Z"
    },
    "papermill": {
     "duration": 0.057516,
     "end_time": "2022-04-20T10:32:56.185107",
     "exception": false,
     "start_time": "2022-04-20T10:32:56.127591",
     "status": "completed"
    },
    "tags": []
   },
   "outputs": [
    {
     "name": "stdout",
     "output_type": "stream",
     "text": [
      "two disjoint lists L1 and L2 where the distance elements in Li is closer to xi' are : [139, 153, 139, 153, 139, 153, 139, 153], [25, 25, 25, 25, 25, 25, 25, 25, 25, 25, 25, 27, 27, 27, 27, 27, 27, 27, 27, 27, 27, 27, 29, 29, 29, 29, 29, 29, 29, 29, 29, 29, 29, 31, 31, 31, 31, 31, 31, 31, 31, 31, 31, 31]\n"
     ]
    }
   ],
   "source": [
    "# creating disjoint lists L1 and L2\n",
    "L1 = []\n",
    "L2 = []\n",
    "# loop over the data to find the distance elements closer to xi and append in L1\n",
    "for i in range(len(DF)) :\n",
    "    if((153-DF.loc[i, \"age\"])<20): # finding closer elements \n",
    "        L1.append(DF.loc[i, \"age\"])  # appending found values in L1\n",
    "for i in range(len(DF)) :\n",
    "    if((31-DF.loc[i, \"water_temperature\"])<10):\n",
    "        L2.append(DF.loc[i, \"water_temperature\"])        \n",
    "# printing these Lists         \n",
    "print(f\"two disjoint lists L1 and L2 where the distance elements in Li is closer to xi' are : {L1}, {L2}\")"
   ]
  },
  {
   "cell_type": "code",
   "execution_count": 16,
   "id": "133f7bc7",
   "metadata": {
    "execution": {
     "iopub.execute_input": "2022-04-20T10:32:56.267261Z",
     "iopub.status.busy": "2022-04-20T10:32:56.266751Z",
     "iopub.status.idle": "2022-04-20T10:32:56.274032Z",
     "shell.execute_reply": "2022-04-20T10:32:56.272971Z"
    },
    "papermill": {
     "duration": 0.051345,
     "end_time": "2022-04-20T10:32:56.276507",
     "exception": false,
     "start_time": "2022-04-20T10:32:56.225162",
     "status": "completed"
    },
    "tags": []
   },
   "outputs": [],
   "source": [
    "L1_df = pd.DataFrame(L1)\n",
    "L2_df = pd.DataFrame(L2)\n",
    "# saving L1 and L2 lists L1.csv and L2.csv \n",
    "L1_df.to_csv('L1.csv')\n",
    "L2_df.to_csv('L2.csv')"
   ]
  },
  {
   "cell_type": "markdown",
   "id": "85f0200f",
   "metadata": {
    "papermill": {
     "duration": 0.043672,
     "end_time": "2022-04-20T10:32:56.359904",
     "exception": false,
     "start_time": "2022-04-20T10:32:56.316232",
     "status": "completed"
    },
    "tags": []
   },
   "source": [
    "# Question B linear regression parameters \n",
    "- (b) Let the length variable (length of the fish) in the data set bedependent on the age and water temperature. \n",
    "   - i. Find parameters for the linear regression where we considerthe loss function to be the square of residuals.\n",
    "   - ii. Compute the empirical risk Rempf for the linear regression."
   ]
  },
  {
   "cell_type": "code",
   "execution_count": 17,
   "id": "db6a7fe2",
   "metadata": {
    "execution": {
     "iopub.execute_input": "2022-04-20T10:32:56.448295Z",
     "iopub.status.busy": "2022-04-20T10:32:56.448015Z",
     "iopub.status.idle": "2022-04-20T10:32:56.452845Z",
     "shell.execute_reply": "2022-04-20T10:32:56.451604Z"
    },
    "papermill": {
     "duration": 0.051022,
     "end_time": "2022-04-20T10:32:56.455475",
     "exception": false,
     "start_time": "2022-04-20T10:32:56.404453",
     "status": "completed"
    },
    "tags": []
   },
   "outputs": [],
   "source": [
    "# calling linear regression function\n",
    "lg = LinearRegression()"
   ]
  },
  {
   "cell_type": "code",
   "execution_count": 18,
   "id": "29e122be",
   "metadata": {
    "execution": {
     "iopub.execute_input": "2022-04-20T10:32:56.540484Z",
     "iopub.status.busy": "2022-04-20T10:32:56.539956Z",
     "iopub.status.idle": "2022-04-20T10:32:56.545982Z",
     "shell.execute_reply": "2022-04-20T10:32:56.545262Z"
    },
    "papermill": {
     "duration": 0.051646,
     "end_time": "2022-04-20T10:32:56.548500",
     "exception": false,
     "start_time": "2022-04-20T10:32:56.496854",
     "status": "completed"
    },
    "tags": []
   },
   "outputs": [],
   "source": [
    "# lets select dependent variables from data and output \n",
    "Y = DF['fish_length']\n",
    "X = DF.drop([\"fish_length\",\"M_Distance\"], axis = 1)"
   ]
  },
  {
   "cell_type": "code",
   "execution_count": 19,
   "id": "a3b9ebc3",
   "metadata": {
    "execution": {
     "iopub.execute_input": "2022-04-20T10:32:56.633358Z",
     "iopub.status.busy": "2022-04-20T10:32:56.632949Z",
     "iopub.status.idle": "2022-04-20T10:32:56.639291Z",
     "shell.execute_reply": "2022-04-20T10:32:56.638544Z"
    },
    "papermill": {
     "duration": 0.053242,
     "end_time": "2022-04-20T10:32:56.641969",
     "exception": false,
     "start_time": "2022-04-20T10:32:56.588727",
     "status": "completed"
    },
    "tags": []
   },
   "outputs": [],
   "source": [
    "# split the data to train regression model and test \n",
    "X_train,X_test,y_train,y_test = train_test_split(X,Y, test_size = 0.2, random_state = 0)"
   ]
  },
  {
   "cell_type": "code",
   "execution_count": 20,
   "id": "3edc5ae8",
   "metadata": {
    "execution": {
     "iopub.execute_input": "2022-04-20T10:32:56.726937Z",
     "iopub.status.busy": "2022-04-20T10:32:56.726506Z",
     "iopub.status.idle": "2022-04-20T10:32:56.752563Z",
     "shell.execute_reply": "2022-04-20T10:32:56.751131Z"
    },
    "papermill": {
     "duration": 0.071852,
     "end_time": "2022-04-20T10:32:56.754935",
     "exception": false,
     "start_time": "2022-04-20T10:32:56.683083",
     "status": "completed"
    },
    "tags": []
   },
   "outputs": [
    {
     "name": "stdout",
     "output_type": "stream",
     "text": [
      "loss square of residuals is : 555203.2927726381\n"
     ]
    }
   ],
   "source": [
    "# fit the regression model on training part of data\n",
    "lg.fit(X_train, y_train)\n",
    "# Predict\n",
    "y_predicted = lg.predict(X_test)\n",
    "# model evaluation\n",
    "# calculating loss where, function to be the square of residuals\n",
    "rmse = mean_squared_error(y_test, y_predicted)\n",
    "print(f\"loss square of residuals is : {rmse}\")"
   ]
  },
  {
   "cell_type": "code",
   "execution_count": 21,
   "id": "1c68cc53",
   "metadata": {
    "execution": {
     "iopub.execute_input": "2022-04-20T10:32:56.838187Z",
     "iopub.status.busy": "2022-04-20T10:32:56.837273Z",
     "iopub.status.idle": "2022-04-20T10:32:56.844609Z",
     "shell.execute_reply": "2022-04-20T10:32:56.843344Z"
    },
    "papermill": {
     "duration": 0.05257,
     "end_time": "2022-04-20T10:32:56.847151",
     "exception": false,
     "start_time": "2022-04-20T10:32:56.794581",
     "status": "completed"
    },
    "tags": []
   },
   "outputs": [
    {
     "name": "stdout",
     "output_type": "stream",
     "text": [
      "Coefficents of the linear regression model are : [  26.05301191 -148.25939503]\n",
      "Intercept of the linear regression model is : 5022.715950835644\n"
     ]
    }
   ],
   "source": [
    "# printing parameters of the regression model \n",
    "print(f\"Coefficents of the linear regression model are : {lg.coef_}\")\n",
    "print(f\"Intercept of the linear regression model is : {lg.intercept_}\")"
   ]
  },
  {
   "cell_type": "code",
   "execution_count": 22,
   "id": "6d68c165",
   "metadata": {
    "execution": {
     "iopub.execute_input": "2022-04-20T10:32:56.935260Z",
     "iopub.status.busy": "2022-04-20T10:32:56.934961Z",
     "iopub.status.idle": "2022-04-20T10:32:56.941878Z",
     "shell.execute_reply": "2022-04-20T10:32:56.940841Z"
    },
    "papermill": {
     "duration": 0.053533,
     "end_time": "2022-04-20T10:32:56.944526",
     "exception": false,
     "start_time": "2022-04-20T10:32:56.890993",
     "status": "completed"
    },
    "tags": []
   },
   "outputs": [
    {
     "name": "stdout",
     "output_type": "stream",
     "text": [
      "Equation for linear regression : Y =5022.715950835644 + [  26.05301191 -148.25939503]x\n"
     ]
    }
   ],
   "source": [
    "# equation to predict the new value \n",
    "print(f\"Equation for linear regression : Y ={lg.intercept_} + {lg.coef_}x\")"
   ]
  },
  {
   "cell_type": "markdown",
   "id": "a3ae9bf4",
   "metadata": {
    "papermill": {
     "duration": 0.042895,
     "end_time": "2022-04-20T10:32:57.030177",
     "exception": false,
     "start_time": "2022-04-20T10:32:56.987282",
     "status": "completed"
    },
    "tags": []
   },
   "source": [
    "## Emperical risk calculation \n",
    "<img src = 'https://i.stack.imgur.com/xuzw3.png'> "
   ]
  },
  {
   "cell_type": "code",
   "execution_count": 23,
   "id": "25153341",
   "metadata": {
    "execution": {
     "iopub.execute_input": "2022-04-20T10:32:57.115361Z",
     "iopub.status.busy": "2022-04-20T10:32:57.115021Z",
     "iopub.status.idle": "2022-04-20T10:32:57.121062Z",
     "shell.execute_reply": "2022-04-20T10:32:57.120283Z"
    },
    "papermill": {
     "duration": 0.051192,
     "end_time": "2022-04-20T10:32:57.123575",
     "exception": false,
     "start_time": "2022-04-20T10:32:57.072383",
     "status": "completed"
    },
    "tags": []
   },
   "outputs": [
    {
     "name": "stdout",
     "output_type": "stream",
     "text": [
      "Emperical risk 'Remp' for linear regression is : 22485733.35729185\n"
     ]
    }
   ],
   "source": [
    "# Calculating Emperical risk using given formula \n",
    "Square_loss = sum((y_test - y_predicted)**2)\n",
    "Remp = Square_loss / 2*len(y_test)\n",
    "print(f\"Emperical risk 'Remp' for linear regression is : {Remp}\")"
   ]
  },
  {
   "cell_type": "markdown",
   "id": "612d95ad",
   "metadata": {
    "papermill": {
     "duration": 0.040761,
     "end_time": "2022-04-20T10:32:57.205457",
     "exception": false,
     "start_time": "2022-04-20T10:32:57.164696",
     "status": "completed"
    },
    "tags": []
   },
   "source": [
    "### Parameters for non linear regression \n",
    "- ii. Find parameters for the following non-linear regression with the feature map\n",
    "<br>\n",
    " `Y = 1 + x1 + x2 + x1*x2`"
   ]
  },
  {
   "cell_type": "code",
   "execution_count": 24,
   "id": "0b8d8af5",
   "metadata": {
    "execution": {
     "iopub.execute_input": "2022-04-20T10:32:57.294149Z",
     "iopub.status.busy": "2022-04-20T10:32:57.293165Z",
     "iopub.status.idle": "2022-04-20T10:32:57.299377Z",
     "shell.execute_reply": "2022-04-20T10:32:57.298280Z"
    },
    "papermill": {
     "duration": 0.05367,
     "end_time": "2022-04-20T10:32:57.302000",
     "exception": false,
     "start_time": "2022-04-20T10:32:57.248330",
     "status": "completed"
    },
    "tags": []
   },
   "outputs": [],
   "source": [
    "#Fitting function for non linear equation given \n",
    "def fitting_func(x, a, b,c,d):\n",
    "    z = 1 + a*x[:,1] +b*x[:,0] + c *(x[:,1]*x[:,0]) \n",
    "    return z\n",
    "    #return a*x+b"
   ]
  },
  {
   "cell_type": "code",
   "execution_count": 25,
   "id": "bb8d5bee",
   "metadata": {
    "execution": {
     "iopub.execute_input": "2022-04-20T10:32:57.388392Z",
     "iopub.status.busy": "2022-04-20T10:32:57.387783Z",
     "iopub.status.idle": "2022-04-20T10:32:57.403864Z",
     "shell.execute_reply": "2022-04-20T10:32:57.401060Z"
    },
    "papermill": {
     "duration": 0.065202,
     "end_time": "2022-04-20T10:32:57.408258",
     "exception": false,
     "start_time": "2022-04-20T10:32:57.343056",
     "status": "completed"
    },
    "tags": []
   },
   "outputs": [
    {
     "name": "stdout",
     "output_type": "stream",
     "text": [
      "Here are the parameters for nonlinear regression : [33.02838277 73.62600774 -1.69270558  1.        ]\n"
     ]
    },
    {
     "name": "stderr",
     "output_type": "stream",
     "text": [
      "/opt/conda/lib/python3.7/site-packages/scipy/optimize/minpack.py:834: OptimizeWarning: Covariance of the parameters could not be estimated\n",
      "  category=OptimizeWarning)\n"
     ]
    }
   ],
   "source": [
    "# Initial guess for the parameters\n",
    "initialGuess = [1.0,1.0,1.0,1.0]    \n",
    "\n",
    "#Perform the curve-fit\n",
    "popt, pcov = curve_fit(fitting_func, D[:,0:2], D[:,2], initialGuess)\n",
    "# here are the parameters for nonlinear regression \n",
    "print(f\"Here are the parameters for nonlinear regression : {popt}\")"
   ]
  }
 ],
 "metadata": {
  "kernelspec": {
   "display_name": "Python 3",
   "language": "python",
   "name": "python3"
  },
  "language_info": {
   "codemirror_mode": {
    "name": "ipython",
    "version": 3
   },
   "file_extension": ".py",
   "mimetype": "text/x-python",
   "name": "python",
   "nbconvert_exporter": "python",
   "pygments_lexer": "ipython3",
   "version": "3.7.12"
  },
  "papermill": {
   "default_parameters": {},
   "duration": 17.29982,
   "end_time": "2022-04-20T10:32:58.275412",
   "environment_variables": {},
   "exception": null,
   "input_path": "__notebook__.ipynb",
   "output_path": "__notebook__.ipynb",
   "parameters": {},
   "start_time": "2022-04-20T10:32:40.975592",
   "version": "2.3.4"
  }
 },
 "nbformat": 4,
 "nbformat_minor": 5
}
